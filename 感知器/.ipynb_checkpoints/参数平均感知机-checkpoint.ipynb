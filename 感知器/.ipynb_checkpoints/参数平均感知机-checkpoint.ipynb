{
 "cells": [
  {
   "cell_type": "code",
   "execution_count": 179,
   "id": "908e078e",
   "metadata": {},
   "outputs": [],
   "source": [
    "import torch\n",
    "import scipy.io as sio\n",
    "from torch.utils import data\n",
    "from torch import nn\n",
    "from matplotlib import pyplot as plt\n",
    "import pandas as pd\n",
    "import numpy as np"
   ]
  },
  {
   "cell_type": "code",
   "execution_count": 180,
   "id": "4fd88675",
   "metadata": {},
   "outputs": [],
   "source": [
    "train_data = sio.loadmat(\"data.mat\")\n",
    "X_data = train_data['X']\n",
    "y_data = train_data['y']\n",
    "\n",
    "train_features = torch.tensor(X_data, dtype=torch.float32)\n",
    "train_labels = torch.tensor(y_data, dtype=torch.float32)*2 - 1"
   ]
  },
  {
   "cell_type": "code",
   "execution_count": 181,
   "id": "9318836f",
   "metadata": {},
   "outputs": [],
   "source": [
    "def data_iter(data_array, batch_size, is_train):\n",
    "    datasets = data.TensorDataset(*data_array)\n",
    "    return data.DataLoader(datasets, batch_size, shuffle=is_train)"
   ]
  },
  {
   "cell_type": "code",
   "execution_count": 182,
   "id": "1ccd93f9",
   "metadata": {},
   "outputs": [],
   "source": [
    "num_features, num_labels = 2, 1\n",
    "w = nn.Parameter(torch.normal(0, 0.1, size=(num_features, num_labels)), requires_grad=True)\n",
    "b = nn.Parameter(torch.zeros(num_labels).reshape(-1, 1), requires_grad=True)"
   ]
  },
  {
   "cell_type": "code",
   "execution_count": 183,
   "id": "50422276",
   "metadata": {},
   "outputs": [],
   "source": [
    "def linreg(X):\n",
    "    return X @ w + b"
   ]
  },
  {
   "cell_type": "code",
   "execution_count": 184,
   "id": "d38d3e15",
   "metadata": {},
   "outputs": [],
   "source": [
    "def loss(y_hat, y):\n",
    "    zero = torch.zeros_like(y_hat)\n",
    "    return torch.max(zero, -1 * y * y_hat)"
   ]
  },
  {
   "cell_type": "code",
   "execution_count": 185,
   "id": "8eea21f4",
   "metadata": {},
   "outputs": [],
   "source": [
    "def train(train_iter, num_epochs, batch_size, lr, weight_decay):\n",
    "    u_w = w.detach().clone()\n",
    "    u_b = b.detach().clone()\n",
    "    train_loss = []\n",
    "    optimizer = torch.optim.SGD([w, b], lr=lr, weight_decay=weight_decay)\n",
    "\n",
    "    t = 1  # 迭代次数\n",
    "    for epoch in range(num_epochs):\n",
    "        for X, y in train_iter:\n",
    "            optimizer.zero_grad()\n",
    "            y_hat = linreg(X)\n",
    "            l = loss(y_hat, y)\n",
    "            if l != 0:\n",
    "                l.backward()\n",
    "                optimizer.step()\n",
    "                with torch.no_grad():\n",
    "                    u_w = u_w - t * lr * w.grad\n",
    "                    u_b = u_b - t * lr * b.grad\n",
    "            t += 1\n",
    "    w_avg = w - u_w / t\n",
    "    b_avg = b - u_b / t\n",
    "    return w_avg, b_avg"
   ]
  },
  {
   "cell_type": "code",
   "execution_count": 186,
   "id": "ab78d823",
   "metadata": {},
   "outputs": [],
   "source": [
    "num_epochs, batch_size, lr, weight_decay = 100, 1, 0.001, 0\n",
    "train_iter = data_iter([train_features, train_labels], batch_size, True)\n",
    "\n",
    "w_avg, b_avg = train(train_iter, num_epochs, batch_size, lr, weight_decay)"
   ]
  },
  {
   "cell_type": "code",
   "execution_count": 187,
   "id": "cdad7f96",
   "metadata": {},
   "outputs": [
    {
     "name": "stdout",
     "output_type": "stream",
     "text": [
      "net1 : 0.4117647058823529\n",
      "net2 : 1.0\n"
     ]
    }
   ],
   "source": [
    "def net_avg(X):\n",
    "    return torch.sign(X @ w_avg + b_avg)\n",
    "\n",
    "def net_normal(X):\n",
    "    return torch.sign(X @ w + b)\n",
    "\n",
    "def accuary(net):\n",
    "    acc, total = 0, 0\n",
    "    for X, y in train_iter:\n",
    "        acc += float((net(X) == y).type(y.dtype).sum())\n",
    "        total += y.numel()\n",
    "    return acc / total\n",
    "\n",
    "print(f\"net1 : {accuary(net_avg)}\")\n",
    "print(f\"net2 : {accuary(net_normal)}\")"
   ]
  },
  {
   "cell_type": "code",
   "execution_count": 188,
   "id": "ac0a409c",
   "metadata": {},
   "outputs": [
    {
     "data": {
      "image/png": "[encoded data removed]",
      "text/plain": [
       "<Figure size 864x576 with 1 Axes>"
      ]
     },
     "metadata": {
      "needs_background": "light"
     },
     "output_type": "display_data"
    }
   ],
   "source": [
    "df = pd.DataFrame({'x1': X_data[:, 0], 'x2':X_data[:, 1], 'y':np.ravel(y_data)})\n",
    "\n",
    "positive = df[df['y'].isin([1])]\n",
    "negative = df[df['y'].isin([0])]\n",
    "\n",
    "x1 = train_features[:, 0].reshape(-1, 1).detach()\n",
    "x2 = ((w[0] * x1 + b) / (-1 * w[1])).detach()\n",
    "\n",
    "fig, ax = plt.subplots(figsize=(12, 8))\n",
    "ax.scatter(positive['x1'], positive['x2'], color=\"black\", s=50, marker='+', label=\"Positive\")\n",
    "ax.scatter(negative['x1'], negative['x2'], color=\"y\", s=50, marker='o', label=\"Negative\")\n",
    "ax.plot(x1, x2, color=\"blue\", label=\"f(x)\")\n",
    "ax.legend(loc=2)\n",
    "ax.set_xlabel(\"x1\")\n",
    "ax.set_ylabel(\"x2\")\n",
    "plt.show()"
   ]
  },
  {
   "cell_type": "code",
   "execution_count": null,
   "id": "5408b089",
   "metadata": {},
   "outputs": [],
   "source": []
  },
  {
   "cell_type": "code",
   "execution_count": null,
   "id": "78e9ce15",
   "metadata": {},
   "outputs": [],
   "source": []
  }
 ],
 "metadata": {
  "kernelspec": {
   "display_name": "Python 3 (ipykernel)",
   "language": "python",
   "name": "python3"
  },
  "language_info": {
   "codemirror_mode": {
    "name": "ipython",
    "version": 3
   },
   "file_extension": ".py",
   "mimetype": "text/x-python",
   "name": "python",
   "nbconvert_exporter": "python",
   "pygments_lexer": "ipython3",
   "version": "3.8.13"
  }
 },
 "nbformat": 4,
 "nbformat_minor": 5
}
